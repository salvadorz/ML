{
 "cells": [
  {
   "attachments": {},
   "cell_type": "markdown",
   "metadata": {},
   "source": [
    "# Linear Regression on Housing Prices\n",
    "\n",
    "The goal is to predict housing prices based on the square footage (denoted as $x{_1}$) and the number of bedrooms $x_2$"
   ]
  },
  {
   "cell_type": "code",
   "execution_count": 3,
   "metadata": {},
   "outputs": [
    {
     "data": {
      "image/png": "[encoded data removed]",
      "text/plain": [
       "<matplotlib.figure.Figure at 0x7f0d73d6b860>"
      ]
     },
     "metadata": {
      "needs_background": "light"
     },
     "output_type": "display_data"
    }
   ],
   "source": [
    "# Linear regression\n",
    "# Estimating house prices based on square footage and number of bedrooms.\n",
    "\n",
    "import numpy as np\n",
    "# See: http://matplotlib.org/api/pyplot_api.html#matplotlib.pyplot\n",
    "import matplotlib.pyplot as plt\n",
    "from numpy.linalg import inv\n",
    "\n",
    "# This is the training data, 16 examples\n",
    "# sqft, bedrooms, price\n",
    "train_data = np.array([\n",
    "    [1500, 2, 60000],\n",
    "    [1800, 2, 70000],\n",
    "    [1900, 2, 80000],\n",
    "    [2000, 3, 90000],\n",
    "    [2200, 3, 95000],\n",
    "    [2300, 2, 100000],\n",
    "    [2350, 3, 110000],\n",
    "    [2500, 3, 112000],\n",
    "    [2800, 4, 120000],\n",
    "    [2900, 3, 135000],\n",
    "    [3000, 4, 140000],\n",
    "    [3100, 4, 145000],\n",
    "    [3300, 5, 162000],\n",
    "    [3400, 4, 157000],\n",
    "    [3600, 5, 167000],\n",
    "    [3900, 5, 178000]\n",
    "])\n",
    "\n",
    "# Test data\n",
    "test_data = np.array([\n",
    "    [1785, 2],\n",
    "    [1950, 2],\n",
    "    [2065, 3],\n",
    "    [2345, 2],\n",
    "    [2385, 3],\n",
    "    [2415, 3],\n",
    "    [2485, 4],\n",
    "    [2665, 3],\n",
    "    [2875, 4],\n",
    "    [3050, 4],\n",
    "    [3250, 5],\n",
    "    [3350, 4],\n",
    "    [3425, 3],\n",
    "    [3715, 5]\n",
    "])\n",
    "\n",
    "# Extract the feature vectors\n",
    "trained_featrs = train_data[:, :-1]\n",
    "num_examples, num_features = trained_featrs.shape # rows and cols\n",
    "\n",
    "# Adjust n to account for the additional intercept term (x0 = 1)\n",
    "num_features = num_features + 1\n",
    "\n",
    "# Extract the expected outcomes\n",
    "trained_labels = train_data[:, -1]\n",
    "\n",
    "#Plot the data set\n",
    "x_sq_footage = trained_featrs[:, 0] # extract square footage column vector\n",
    "\n",
    "ax1 = plt.subplot()\n",
    "ax1.plot(x_sq_footage, trained_labels, 'b.') # b. is blue dots\n",
    "# Set the left y-axis label, ticks and tick labels match the line color.\n",
    "ax1.set_xlabel('Square Footage')\n",
    "ax1.set_ylabel('House Price', color='b')\n",
    "ax1.tick_params('y', colors='b')\n",
    "plt.title(\"Data Set\")\n",
    "plt.show()"
   ]
  }
 ],
 "metadata": {
  "kernelspec": {
   "display_name": "Python 3",
   "language": "python",
   "name": "python3"
  },
  "language_info": {
   "codemirror_mode": {
    "name": "ipython",
    "version": 3
   },
   "file_extension": ".py",
   "mimetype": "text/x-python",
   "name": "python",
   "nbconvert_exporter": "python",
   "pygments_lexer": "ipython3",
   "version": "3.6.9"
  },
  "orig_nbformat": 4
 },
 "nbformat": 4,
 "nbformat_minor": 2
}
